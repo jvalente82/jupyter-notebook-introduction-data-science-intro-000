{
 "cells": [
  {
   "cell_type": "markdown",
   "metadata": {},
   "source": [
    "# Jupyter Notebook CodeAlong"
   ]
  },
  {
   "cell_type": "markdown",
   "metadata": {},
   "source": [
    "### Introduction"
   ]
  },
  {
   "cell_type": "markdown",
   "metadata": {},
   "source": [
    "So far, many of the readings and all of the labs you have been working with have been interactive.  You are working in an environment that allows us to both display text and run Python code.  In this lesson, we explore Jupyter, the software powering these interactive documents."
   ]
  },
  {
   "cell_type": "markdown",
   "metadata": {},
   "source": [
    "### Jupyter Background"
   ]
  },
  {
   "cell_type": "markdown",
   "metadata": {},
   "source": [
    "Jupyter is a web application that allows someone to create and work with documents that have live code.  It's a very popular tool among data scientists, as it allows for both explanation of thinking behind code as well as the code itself."
   ]
  },
  {
   "cell_type": "markdown",
   "metadata": {},
   "source": [
    "### Introduction to cells"
   ]
  },
  {
   "cell_type": "markdown",
   "metadata": {},
   "source": [
    "The notebook itself consists of cells. Double click on this content to see what I mean. Once we double click on a cell, we are in insert mode. This means that we are able to edit the cells, just as you would if this were a word document. We can tell that we are in insert mode because of the green border around the cell.  \n",
    "\n",
    "After entering insert mode for this cell, change some content. Don't worry about what you change as we can always undo it. We can revert our changes to a cell by making sure that we are still in insert mode and by pressing `command + z` on a mac or `control + z`.\n",
    "\n",
    "To get out of insert mode and see the effect of our changes, press `shift + enter`."
   ]
  },
  {
   "cell_type": "markdown",
   "metadata": {},
   "source": [
    "### Adding and Deleting Cells"
   ]
  },
  {
   "cell_type": "code",
   "execution_count": 1,
   "metadata": {},
   "outputs": [
    {
     "name": "stdout",
     "output_type": "stream",
     "text": [
      "\n",
      "%run:\n",
      " Run the named file inside IPython as a program.\n",
      "\n",
      "Usage::\n",
      "\n",
      "  %run [-n -i -e -G]\n",
      "       [( -t [-N<N>] | -d [-b<N>] | -p [profile options] )]\n",
      "       ( -m mod | file ) [args]\n",
      "\n",
      "Parameters after the filename are passed as command-line arguments to\n",
      "the program (put in sys.argv). Then, control returns to IPython's\n",
      "prompt.\n",
      "\n",
      "This is similar to running at a system prompt ``python file args``,\n",
      "but with the advantage of giving you IPython's tracebacks, and of\n",
      "loading all variables into your interactive namespace for further use\n",
      "(unless -p is used, see below).\n",
      "\n",
      "The file is executed in a namespace initially consisting only of\n",
      "``__name__=='__main__'`` and sys.argv constructed as indicated. It thus\n",
      "sees its environment as if it were being run as a stand-alone program\n",
      "(except for sharing global objects such as previously imported\n",
      "modules). But after execution, the IPython interactive namespace gets\n",
      "updated with all variables defined in the program (except for __name__\n",
      "and sys.argv). This allows for very convenient loading of code for\n",
      "interactive work, while giving each program a 'clean sheet' to run in.\n",
      "\n",
      "Arguments are expanded using shell-like glob match.  Patterns\n",
      "'*', '?', '[seq]' and '[!seq]' can be used.  Additionally,\n",
      "tilde '~' will be expanded into user's home directory.  Unlike\n",
      "real shells, quotation does not suppress expansions.  Use\n",
      "*two* back slashes (e.g. ``\\\\*``) to suppress expansions.\n",
      "To completely disable these expansions, you can use -G flag.\n",
      "\n",
      "Options:\n",
      "\n",
      "-n\n",
      "  __name__ is NOT set to '__main__', but to the running file's name\n",
      "  without extension (as python does under import).  This allows running\n",
      "  scripts and reloading the definitions in them without calling code\n",
      "  protected by an ``if __name__ == \"__main__\"`` clause.\n",
      "\n",
      "-i\n",
      "  run the file in IPython's namespace instead of an empty one. This\n",
      "  is useful if you are experimenting with code written in a text editor\n",
      "  which depends on variables defined interactively.\n",
      "\n",
      "-e\n",
      "  ignore sys.exit() calls or SystemExit exceptions in the script\n",
      "  being run.  This is particularly useful if IPython is being used to\n",
      "  run unittests, which always exit with a sys.exit() call.  In such\n",
      "  cases you are interested in the output of the test results, not in\n",
      "  seeing a traceback of the unittest module.\n",
      "\n",
      "-t\n",
      "  print timing information at the end of the run.  IPython will give\n",
      "  you an estimated CPU time consumption for your script, which under\n",
      "  Unix uses the resource module to avoid the wraparound problems of\n",
      "  time.clock().  Under Unix, an estimate of time spent on system tasks\n",
      "  is also given (for Windows platforms this is reported as 0.0).\n",
      "\n",
      "If -t is given, an additional ``-N<N>`` option can be given, where <N>\n",
      "must be an integer indicating how many times you want the script to\n",
      "run.  The final timing report will include total and per run results.\n",
      "\n",
      "For example (testing the script uniq_stable.py)::\n",
      "\n",
      "    In [1]: run -t uniq_stable\n",
      "\n",
      "    IPython CPU timings (estimated):\n",
      "      User  :    0.19597 s.\n",
      "      System:        0.0 s.\n",
      "\n",
      "    In [2]: run -t -N5 uniq_stable\n",
      "\n",
      "    IPython CPU timings (estimated):\n",
      "    Total runs performed: 5\n",
      "      Times :      Total       Per run\n",
      "      User  :   0.910862 s,  0.1821724 s.\n",
      "      System:        0.0 s,        0.0 s.\n",
      "\n",
      "-d\n",
      "  run your program under the control of pdb, the Python debugger.\n",
      "  This allows you to execute your program step by step, watch variables,\n",
      "  etc.  Internally, what IPython does is similar to calling::\n",
      "\n",
      "      pdb.run('execfile(\"YOURFILENAME\")')\n",
      "\n",
      "  with a breakpoint set on line 1 of your file.  You can change the line\n",
      "  number for this automatic breakpoint to be <N> by using the -bN option\n",
      "  (where N must be an integer). For example::\n",
      "\n",
      "      %run -d -b40 myscript\n",
      "\n",
      "  will set the first breakpoint at line 40 in myscript.py.  Note that\n",
      "  the first breakpoint must be set on a line which actually does\n",
      "  something (not a comment or docstring) for it to stop execution.\n",
      "\n",
      "  Or you can specify a breakpoint in a different file::\n",
      "\n",
      "      %run -d -b myotherfile.py:20 myscript\n",
      "\n",
      "  When the pdb debugger starts, you will see a (Pdb) prompt.  You must\n",
      "  first enter 'c' (without quotes) to start execution up to the first\n",
      "  breakpoint.\n",
      "\n",
      "  Entering 'help' gives information about the use of the debugger.  You\n",
      "  can easily see pdb's full documentation with \"import pdb;pdb.help()\"\n",
      "  at a prompt.\n",
      "\n",
      "-p\n",
      "  run program under the control of the Python profiler module (which\n",
      "  prints a detailed report of execution times, function calls, etc).\n",
      "\n",
      "  You can pass other options after -p which affect the behavior of the\n",
      "  profiler itself. See the docs for %prun for details.\n",
      "\n",
      "  In this mode, the program's variables do NOT propagate back to the\n",
      "  IPython interactive namespace (because they remain in the namespace\n",
      "  where the profiler executes them).\n",
      "\n",
      "  Internally this triggers a call to %prun, see its documentation for\n",
      "  details on the options available specifically for profiling.\n",
      "\n",
      "There is one special usage for which the text above doesn't apply:\n",
      "if the filename ends with .ipy[nb], the file is run as ipython script,\n",
      "just as if the commands were written on IPython prompt.\n",
      "\n",
      "-m\n",
      "  specify module name to load instead of script path. Similar to\n",
      "  the -m option for the python interpreter. Use this option last if you\n",
      "  want to combine with other %run options. Unlike the python interpreter\n",
      "  only source modules are allowed no .pyc or .pyo files.\n",
      "  For example::\n",
      "\n",
      "      %run -m example\n",
      "\n",
      "  will run the example module.\n",
      "\n",
      "-G\n",
      "  disable shell-like glob expansion of arguments.\n"
     ]
    },
    {
     "name": "stderr",
     "output_type": "stream",
     "text": [
      "/opt/conda/envs/learn-env/lib/python3.6/site-packages/IPython/core/magics/execution.py:648: UserWarning: you must provide at least a filename.\n",
      "  warn('you must provide at least a filename.')\n"
     ]
    }
   ],
   "source": []
  },
  {
   "cell_type": "markdown",
   "metadata": {},
   "source": [
    "We have already seen, to alter the contents of a cell we simply double click on that cell, bringing us into insert mode, and then change the contents.  Now let's see how to add, and delete cells from escape mode."
   ]
  },
  {
   "cell_type": "markdown",
   "metadata": {},
   "source": [
    "#### Adding cells"
   ]
  },
  {
   "cell_type": "markdown",
   "metadata": {},
   "source": [
    "If we wish to quickly add a new cell we can do so with the following steps: \n",
    "\n",
    "* Make sure we are not in insert mode, but in escape mode\n",
    "    * *Remember we can tell we are in insert mode when we have a green border around our cell.*\n",
    "    * To get out of insert mode and into escape mode, press shift + enter.  Another option is to press the escape key.\n",
    "    * You will no longer see a cell bordered in green.\n",
    "* Then press the letter `b` to create a new cell."
   ]
  },
  {
   "cell_type": "markdown",
   "metadata": {},
   "source": [
    "#### Deleting cells"
   ]
  },
  {
   "cell_type": "markdown",
   "metadata": {},
   "source": [
    "To delete a cell we once again should be in escape mode, and then press the `x` key.\n",
    "\n",
    "Of course, we'll want a way to undo our deletion.  From escape mode, you can press `z` to undo deletion of a cell.  Note that this is different from `cmd + z`.  Pressing `cmd + z` while in insert mode undoes any changes inside of a cell while, whether these changes be deletions or text insertions.  Pressing `z` from escape mode undoes the deletion of a cell.\n",
    "\n",
    "Go to escape mode and press `x`.  This cell disappears!\n",
    "\n",
    "Then bring it back with `z`."
   ]
  },
  {
   "cell_type": "markdown",
   "metadata": {},
   "source": [
    "### Types of Cells\n",
    "\n",
    "The current cell and every other cell in this lesson has been a markdown cell, meaning that it allows us to write text and stylize that text.  For example, if you surround some text with stars on either side the text **becomes bold**.  That's markdown.\n",
    "\n",
    "Cells can also have a type of code.  If we are writing in a cell that is for Python code, everything in that cell must be valid Python or we will see an error."
   ]
  },
  {
   "cell_type": "code",
   "execution_count": null,
   "metadata": {
    "collapsed": true
   },
   "outputs": [],
   "source": [
    "This is a python cell without valid Python so we will see an error"
   ]
  },
  {
   "cell_type": "markdown",
   "metadata": {
    "collapsed": true
   },
   "source": [
    "So, a cell must either be of type markdown or of type code, in which case all of the contents must be valid Python.  It cannot be both. We can quickly change a cell from markdown to code with some keyboard shortcuts.\n",
    "\n",
    "From escape mode, we change a cell to type code by pressing the letter `y`.\n",
    "\n",
    "Anytime we create a new cell, say with the shortcut key `b`, the new cell will default to code mode.  We can switch to escape mode and press the letter `m` to change the cell from code to markdown."
   ]
  },
  {
   "cell_type": "markdown",
   "metadata": {},
   "source": [
    "#### View All Shortcuts\n",
    "\n",
    "Press the key `h` while in escape mode to view the menu for all of Jupyter's shortcuts."
   ]
  },
  {
   "cell_type": "markdown",
   "metadata": {},
   "source": [
    "### Working with Python in Jupyter"
   ]
  },
  {
   "cell_type": "markdown",
   "metadata": {},
   "source": [
    "Ok, now that we know a little bit about adding and deleting cells, as well as changing cell types from markdown to code, let's focus on working with Python in Jupyter.  We'll go into a large amount of detail about working with a Jupyter notebook in Python, but the main takeaway is this: if we see a Python cell, we should press `shift + enter` on that cell. "
   ]
  },
  {
   "cell_type": "markdown",
   "metadata": {},
   "source": [
    "The major gotcha in working with Python code is that we must execute the cells in order for Python to register the code in them. So for example, just seeing the cell where we define `name` to `'bob'` below does not write that cell to memory."
   ]
  },
  {
   "cell_type": "code",
   "execution_count": null,
   "metadata": {
    "collapsed": true
   },
   "outputs": [],
   "source": [
    "name = 'bob'"
   ]
  },
  {
   "cell_type": "markdown",
   "metadata": {},
   "source": [
    "If we try to reference that variable later on without having executed the cell, Python will tell us that it is not defined.  "
   ]
  },
  {
   "cell_type": "code",
   "execution_count": 4,
   "metadata": {},
   "outputs": [
    {
     "ename": "NameError",
     "evalue": "name 'name' is not defined",
     "output_type": "error",
     "traceback": [
      "\u001b[0;31m---------------------------------------------------------------------------\u001b[0m",
      "\u001b[0;31mNameError\u001b[0m                                 Traceback (most recent call last)",
      "\u001b[0;32m<ipython-input-4-9bc0cb2ed6de>\u001b[0m in \u001b[0;36m<module>\u001b[0;34m()\u001b[0m\n\u001b[0;32m----> 1\u001b[0;31m \u001b[0mname\u001b[0m\u001b[0;34m\u001b[0m\u001b[0m\n\u001b[0m",
      "\u001b[0;31mNameError\u001b[0m: name 'name' is not defined"
     ]
    }
   ],
   "source": [
    "name"
   ]
  },
  {
   "cell_type": "markdown",
   "metadata": {},
   "source": [
    "To execute or run a cell, we must press `shift + enter` from escape mode on that cell.  Upon running a cell, Python will show the the last line of the cell's return value underneath.  Let's run the cell below to see this:"
   ]
  },
  {
   "cell_type": "code",
   "execution_count": 2,
   "metadata": {},
   "outputs": [
    {
     "data": {
      "text/plain": [
       "14"
      ]
     },
     "execution_count": 2,
     "metadata": {},
     "output_type": "execute_result"
    }
   ],
   "source": [
    "age = 14\n",
    "age"
   ]
  },
  {
   "cell_type": "markdown",
   "metadata": {},
   "source": [
    "As you can see the variable `age` is set to 14, so when the cell is run `14` is displayed underneath.\n",
    "\n",
    "One tricky thing to note is that assignment, the action of assigning a variable, **does not** have a return a value.  So, even though the cell is run, if the last line of cell is the assigning of a variable, nothing is displayed underneath. "
   ]
  },
  {
   "cell_type": "code",
   "execution_count": 3,
   "metadata": {
    "collapsed": true
   },
   "outputs": [],
   "source": [
    "hometown = 'NYC'"
   ]
  },
  {
   "cell_type": "markdown",
   "metadata": {},
   "source": [
    "Notice, even after pressing shift + enter on the code above, nothing is displayed below.  But if we reference the variable `hometown`, we see that the cell was run as the variable was defined."
   ]
  },
  {
   "cell_type": "code",
   "execution_count": 4,
   "metadata": {},
   "outputs": [
    {
     "data": {
      "text/plain": [
       "'NYC'"
      ]
     },
     "execution_count": 4,
     "metadata": {},
     "output_type": "execute_result"
    }
   ],
   "source": [
    "hometown"
   ]
  },
  {
   "cell_type": "markdown",
   "metadata": {},
   "source": [
    "> Yes, it's pretty confusing, but the important thing to take away is that we need to run our cells with Python code by pressing `shift + enter` if we want Python to read our variables and functions and remember them later on. Remember, in the case of assignment, the return value is `None`, which does not show an output. We can see this more concretely below by running the cell below:"
   ]
  },
  {
   "cell_type": "code",
   "execution_count": 6,
   "metadata": {
    "collapsed": true
   },
   "outputs": [],
   "source": [
    "None"
   ]
  },
  {
   "cell_type": "markdown",
   "metadata": {},
   "source": [
    "### Working through labs and readmes "
   ]
  },
  {
   "cell_type": "markdown",
   "metadata": {},
   "source": [
    "As you read through labs we encourage you to press shift + enter on each of the Python cells.  Often in labs, we will assign variables to data early on.  Then we will ask you to work with data stored in those variables.  To avoid going to the top of the lab to press `shift + enter`, it's best just to press that while reading along. \n",
    "\n",
    "The same thing goes for working through a Readme.  The Readmes will often assign data to variables, and it may be nice to work with data stored in those variables later on.  So it's a good idea to press `shift + enter`, and now that you know how to work with Jupyter notebooks, you can always modify the notebooks with new code to test your understanding."
   ]
  },
  {
   "cell_type": "markdown",
   "metadata": {},
   "source": [
    "### Summary"
   ]
  },
  {
   "cell_type": "markdown",
   "metadata": {},
   "source": [
    "In this lesson, we learned about Jupyter notebooks.  We saw that in Jupyter notebooks, we can either be in insert mode or escape mode.  While in insert mode, we can edit the cells and undo changes within that cell with `cmd + z` on a mac or `ctl + z` on windows.  In escape mode, we can add cells with `b`, delete a cell with `x`, and undo deletion of a cell with `z`.  We can also change the type of a cell to markdown with `m` and to Python code with `y`.  \n",
    "\n",
    "Then we saw how to work with Python code in Jupyter notebooks.  We saw that to have our code in a cell executed, we need to press `shift + enter`. If we do not do this, then our variables that we assigned in Python are not going to be recognized by Python later on in our Jupyter notebook."
   ]
  }
 ],
 "metadata": {
  "kernelspec": {
   "display_name": "Python 3",
   "language": "python",
   "name": "python3"
  },
  "language_info": {
   "codemirror_mode": {
    "name": "ipython",
    "version": 3
   },
   "file_extension": ".py",
   "mimetype": "text/x-python",
   "name": "python",
   "nbconvert_exporter": "python",
   "pygments_lexer": "ipython3",
   "version": "3.6.6"
  }
 },
 "nbformat": 4,
 "nbformat_minor": 2
}
